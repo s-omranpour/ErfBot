{
 "cells": [
  {
   "cell_type": "code",
   "execution_count": 118,
   "metadata": {},
   "outputs": [
    {
     "data": {
      "text/plain": [
       "42"
      ]
     },
     "execution_count": 118,
     "metadata": {},
     "output_type": "execute_result"
    }
   ],
   "source": [
    "import pandas as pd\n",
    "import numpy as np\n",
    "import torch\n",
    "from importlib import reload\n",
    "from tqdm.notebook import tqdm\n",
    "import pytorch_lightning as pl\n",
    "from transformers import GPT2Config, GPT2Tokenizer\n",
    "\n",
    "pl.seed_everything(42)"
   ]
  },
  {
   "cell_type": "markdown",
   "metadata": {},
   "source": [
    "## config and tokenizer"
   ]
  },
  {
   "cell_type": "code",
   "execution_count": 114,
   "metadata": {},
   "outputs": [
    {
     "name": "stderr",
     "output_type": "stream",
     "text": [
      "/Library/Frameworks/Python.framework/Versions/3.7/lib/python3.7/site-packages/ipykernel_launcher.py:3: YAMLLoadWarning: calling yaml.load() without Loader=... is deprecated, as the default Loader is unsafe. Please read https://msg.pyyaml.org/load for full details.\n",
      "  This is separate from the ipykernel package so we can avoid doing imports until\n"
     ]
    },
    {
     "data": {
      "text/plain": [
       "{'data': {'batch_size': 32,\n",
       "  'max_len': 256,\n",
       "  'csv_file': 'processed.csv',\n",
       "  'tokenizer_name': 'microsoft/DialoGPT-small',\n",
       "  'val_frac': 0.1},\n",
       " 'model': {'n_positions': 256,\n",
       "  'n_ctx': 256512,\n",
       "  'n_embd': 768,\n",
       "  'n_layer': 6,\n",
       "  'n_head': 12,\n",
       "  'n_inner': 1024},\n",
       " 'opt': {'lr': 5e-05, 'max_epochs': 100, 'weight_decay': 0.001},\n",
       " 'exp': {'save_dir': 'weights/',\n",
       "  'gradient_accumulation_steps': 1,\n",
       "  'max_grad_norm': 1.0}}"
      ]
     },
     "execution_count": 114,
     "metadata": {},
     "output_type": "execute_result"
    }
   ],
   "source": [
    "import yaml\n",
    "\n",
    "config = yaml.load(open('config.yaml'))\n",
    "config"
   ]
  },
  {
   "cell_type": "code",
   "execution_count": 98,
   "metadata": {},
   "outputs": [],
   "source": [
    "tokenizer = GPT2Tokenizer.from_pretrained(config['data']['tokenizer_name'])\n",
    "tokenizer.pad_token = tokenizer.eos_token"
   ]
  },
  {
   "cell_type": "code",
   "execution_count": 115,
   "metadata": {},
   "outputs": [
    {
     "data": {
      "text/plain": [
       "{'data': {'batch_size': 32,\n",
       "  'max_len': 256,\n",
       "  'csv_file': 'processed.csv',\n",
       "  'tokenizer_name': 'microsoft/DialoGPT-small',\n",
       "  'val_frac': 0.1},\n",
       " 'model': {'n_positions': 256,\n",
       "  'n_ctx': 256512,\n",
       "  'n_embd': 768,\n",
       "  'n_layer': 6,\n",
       "  'n_head': 12,\n",
       "  'n_inner': 1024,\n",
       "  'vocab_size': 50257,\n",
       "  'pad_token_id': 50256,\n",
       "  'eos_token_id': 50256,\n",
       "  'bos_token_id': 50256},\n",
       " 'opt': {'lr': 5e-05, 'max_epochs': 100, 'weight_decay': 0.001},\n",
       " 'exp': {'save_dir': 'weights/',\n",
       "  'gradient_accumulation_steps': 1,\n",
       "  'max_grad_norm': 1.0}}"
      ]
     },
     "execution_count": 115,
     "metadata": {},
     "output_type": "execute_result"
    }
   ],
   "source": [
    "config['model']['vocab_size'] = tokenizer.vocab_size\n",
    "config['model']['pad_token_id'] = tokenizer.pad_token_id\n",
    "config['model']['eos_token_id'] = tokenizer.eos_token_id\n",
    "config['model']['bos_token_id'] = tokenizer.bos_token_id\n",
    "config"
   ]
  },
  {
   "cell_type": "markdown",
   "metadata": {},
   "source": [
    "## data"
   ]
  },
  {
   "cell_type": "code",
   "execution_count": 100,
   "metadata": {},
   "outputs": [
    {
     "data": {
      "text/html": [
       "<div>\n",
       "<style scoped>\n",
       "    .dataframe tbody tr th:only-of-type {\n",
       "        vertical-align: middle;\n",
       "    }\n",
       "\n",
       "    .dataframe tbody tr th {\n",
       "        vertical-align: top;\n",
       "    }\n",
       "\n",
       "    .dataframe thead th {\n",
       "        text-align: right;\n",
       "    }\n",
       "</style>\n",
       "<table border=\"1\" class=\"dataframe\">\n",
       "  <thead>\n",
       "    <tr style=\"text-align: right;\">\n",
       "      <th></th>\n",
       "      <th>from</th>\n",
       "      <th>text</th>\n",
       "    </tr>\n",
       "  </thead>\n",
       "  <tbody>\n",
       "    <tr>\n",
       "      <td>0</td>\n",
       "      <td>soroush</td>\n",
       "      <td>هدیه ی اولیه تولد! :))</td>\n",
       "    </tr>\n",
       "    <tr>\n",
       "      <td>1</td>\n",
       "      <td>erf</td>\n",
       "      <td>Ey khafan tarin  ❤❤❤❤  Zogh haye ziad  Melted ...</td>\n",
       "    </tr>\n",
       "    <tr>\n",
       "      <td>2</td>\n",
       "      <td>soroush</td>\n",
       "      <td>😌😌😌❤️  wish U enjoy it! :))</td>\n",
       "    </tr>\n",
       "    <tr>\n",
       "      <td>3</td>\n",
       "      <td>erf</td>\n",
       "      <td>Kheili khube ha bia berim jaye chaartaar y per...</td>\n",
       "    </tr>\n",
       "    <tr>\n",
       "      <td>4</td>\n",
       "      <td>soroush</td>\n",
       "      <td>dar khedmatim! 😏 :))  albatte age shoma eftexa...</td>\n",
       "    </tr>\n",
       "  </tbody>\n",
       "</table>\n",
       "</div>"
      ],
      "text/plain": [
       "      from                                               text\n",
       "0  soroush                            هدیه ی اولیه تولد! :)) \n",
       "1      erf  Ey khafan tarin  ❤❤❤❤  Zogh haye ziad  Melted ...\n",
       "2  soroush                       😌😌😌❤️  wish U enjoy it! :)) \n",
       "3      erf  Kheili khube ha bia berim jaye chaartaar y per...\n",
       "4  soroush  dar khedmatim! 😏 :))  albatte age shoma eftexa..."
      ]
     },
     "execution_count": 100,
     "metadata": {},
     "output_type": "execute_result"
    }
   ],
   "source": [
    "df = pd.read_csv(config['data']['csv_file'])\n",
    "df.head()"
   ]
  },
  {
   "cell_type": "code",
   "execution_count": 101,
   "metadata": {},
   "outputs": [
    {
     "data": {
      "application/vnd.jupyter.widget-view+json": {
       "model_id": "a6cea75baf8443fd871de8d467d41012",
       "version_major": 2,
       "version_minor": 0
      },
      "text/plain": [
       "HBox(children=(FloatProgress(value=0.0, max=103656.0), HTML(value='')))"
      ]
     },
     "metadata": {},
     "output_type": "display_data"
    },
    {
     "name": "stdout",
     "output_type": "stream",
     "text": [
      "\n"
     ]
    },
    {
     "data": {
      "text/html": [
       "<div>\n",
       "<style scoped>\n",
       "    .dataframe tbody tr th:only-of-type {\n",
       "        vertical-align: middle;\n",
       "    }\n",
       "\n",
       "    .dataframe tbody tr th {\n",
       "        vertical-align: top;\n",
       "    }\n",
       "\n",
       "    .dataframe thead th {\n",
       "        text-align: right;\n",
       "    }\n",
       "</style>\n",
       "<table border=\"1\" class=\"dataframe\">\n",
       "  <thead>\n",
       "    <tr style=\"text-align: right;\">\n",
       "      <th></th>\n",
       "      <th>response</th>\n",
       "      <th>context</th>\n",
       "      <th>context/0</th>\n",
       "      <th>context/1</th>\n",
       "      <th>context/2</th>\n",
       "      <th>context/3</th>\n",
       "      <th>context/4</th>\n",
       "      <th>context/5</th>\n",
       "    </tr>\n",
       "  </thead>\n",
       "  <tbody>\n",
       "    <tr>\n",
       "      <td>0</td>\n",
       "      <td>Hamash 😏😏😏</td>\n",
       "      <td>kudumesh??😏</td>\n",
       "      <td>Ziba bud 😏</td>\n",
       "      <td>dar khedmatim! 😏 :))  albatte age shoma eftexa...</td>\n",
       "      <td>Kheili khube ha bia berim jaye chaartaar y per...</td>\n",
       "      <td>😌😌😌❤️  wish U enjoy it! :))</td>\n",
       "      <td>Ey khafan tarin  ❤❤❤❤  Zogh haye ziad  Melted ...</td>\n",
       "      <td>هدیه ی اولیه تولد! :))</td>\n",
       "    </tr>\n",
       "    <tr>\n",
       "      <td>1</td>\n",
       "      <td>mokhlesim😏  mokh_less😏</td>\n",
       "      <td>Hamash 😏😏😏</td>\n",
       "      <td>kudumesh??😏</td>\n",
       "      <td>Ziba bud 😏</td>\n",
       "      <td>dar khedmatim! 😏 :))  albatte age shoma eftexa...</td>\n",
       "      <td>Kheili khube ha bia berim jaye chaartaar y per...</td>\n",
       "      <td>😌😌😌❤️  wish U enjoy it! :))</td>\n",
       "      <td>Ey khafan tarin  ❤❤❤❤  Zogh haye ziad  Melted ...</td>\n",
       "    </tr>\n",
       "    <tr>\n",
       "      <td>2</td>\n",
       "      <td>Ino midunam😏</td>\n",
       "      <td>mokhlesim😏  mokh_less😏</td>\n",
       "      <td>Hamash 😏😏😏</td>\n",
       "      <td>kudumesh??😏</td>\n",
       "      <td>Ziba bud 😏</td>\n",
       "      <td>dar khedmatim! 😏 :))  albatte age shoma eftexa...</td>\n",
       "      <td>Kheili khube ha bia berim jaye chaartaar y per...</td>\n",
       "      <td>😌😌😌❤️  wish U enjoy it! :))</td>\n",
       "    </tr>\n",
       "    <tr>\n",
       "      <td>3</td>\n",
       "      <td>u 2😏</td>\n",
       "      <td>Ino midunam😏</td>\n",
       "      <td>mokhlesim😏  mokh_less😏</td>\n",
       "      <td>Hamash 😏😏😏</td>\n",
       "      <td>kudumesh??😏</td>\n",
       "      <td>Ziba bud 😏</td>\n",
       "      <td>dar khedmatim! 😏 :))  albatte age shoma eftexa...</td>\n",
       "      <td>Kheili khube ha bia berim jaye chaartaar y per...</td>\n",
       "    </tr>\n",
       "    <tr>\n",
       "      <td>4</td>\n",
       "      <td>Haaamiiine ke has 😏</td>\n",
       "      <td>u 2😏</td>\n",
       "      <td>Ino midunam😏</td>\n",
       "      <td>mokhlesim😏  mokh_less😏</td>\n",
       "      <td>Hamash 😏😏😏</td>\n",
       "      <td>kudumesh??😏</td>\n",
       "      <td>Ziba bud 😏</td>\n",
       "      <td>dar khedmatim! 😏 :))  albatte age shoma eftexa...</td>\n",
       "    </tr>\n",
       "  </tbody>\n",
       "</table>\n",
       "</div>"
      ],
      "text/plain": [
       "                  response                  context                context/0  \\\n",
       "0              Hamash 😏😏😏              kudumesh??😏               Ziba bud 😏    \n",
       "1  mokhlesim😏  mokh_less😏               Hamash 😏😏😏              kudumesh??😏    \n",
       "2            Ino midunam😏   mokhlesim😏  mokh_less😏               Hamash 😏😏😏    \n",
       "3                    u 2😏             Ino midunam😏   mokhlesim😏  mokh_less😏    \n",
       "4     Haaamiiine ke has 😏                     u 2😏             Ino midunam😏    \n",
       "\n",
       "                                           context/1  \\\n",
       "0  dar khedmatim! 😏 :))  albatte age shoma eftexa...   \n",
       "1                                        Ziba bud 😏    \n",
       "2                                       kudumesh??😏    \n",
       "3                                        Hamash 😏😏😏    \n",
       "4                            mokhlesim😏  mokh_less😏    \n",
       "\n",
       "                                           context/2  \\\n",
       "0  Kheili khube ha bia berim jaye chaartaar y per...   \n",
       "1  dar khedmatim! 😏 :))  albatte age shoma eftexa...   \n",
       "2                                        Ziba bud 😏    \n",
       "3                                       kudumesh??😏    \n",
       "4                                        Hamash 😏😏😏    \n",
       "\n",
       "                                           context/3  \\\n",
       "0                       😌😌😌❤️  wish U enjoy it! :))    \n",
       "1  Kheili khube ha bia berim jaye chaartaar y per...   \n",
       "2  dar khedmatim! 😏 :))  albatte age shoma eftexa...   \n",
       "3                                        Ziba bud 😏    \n",
       "4                                       kudumesh??😏    \n",
       "\n",
       "                                           context/4  \\\n",
       "0  Ey khafan tarin  ❤❤❤❤  Zogh haye ziad  Melted ...   \n",
       "1                       😌😌😌❤️  wish U enjoy it! :))    \n",
       "2  Kheili khube ha bia berim jaye chaartaar y per...   \n",
       "3  dar khedmatim! 😏 :))  albatte age shoma eftexa...   \n",
       "4                                        Ziba bud 😏    \n",
       "\n",
       "                                           context/5  \n",
       "0                            هدیه ی اولیه تولد! :))   \n",
       "1  Ey khafan tarin  ❤❤❤❤  Zogh haye ziad  Melted ...  \n",
       "2                       😌😌😌❤️  wish U enjoy it! :))   \n",
       "3  Kheili khube ha bia berim jaye chaartaar y per...  \n",
       "4  dar khedmatim! 😏 :))  albatte age shoma eftexa...  "
      ]
     },
     "execution_count": 101,
     "metadata": {},
     "output_type": "execute_result"
    }
   ],
   "source": [
    "contexted = []\n",
    "n = 7\n",
    "for i in tqdm(range(n, len(df['text']))):\n",
    "    row = []\n",
    "    prev = i - 1 - n # we additionally substract 1, so row will contain current responce and 7 previous responces  \n",
    "    for j in range(i, prev, -1):\n",
    "        row.append(df['text'][j])\n",
    "    contexted.append(row)  \n",
    "    \n",
    "columns = ['response', 'context'] \n",
    "columns = columns + ['context/'+str(i) for i in range(n-1)]\n",
    "df = pd.DataFrame.from_records(contexted, columns=columns)\n",
    "df.head()"
   ]
  },
  {
   "cell_type": "code",
   "execution_count": 109,
   "metadata": {},
   "outputs": [
    {
     "name": "stdout",
     "output_type": "stream",
     "text": [
      "train dataset has 93291 samples and val dataset has 10365 samples\n"
     ]
    }
   ],
   "source": [
    "import dataset\n",
    "reload(dataset)\n",
    "from dataset import get_dataloaders\n",
    "\n",
    "train_loader, val_loader = get_dataloaders(tokenizer, df, \n",
    "                                           max_len=config['data']['max_len'], \n",
    "                                           batch_size=config['data']['batch_size'], \n",
    "                                           val_frac=config['data']['val_frac'])"
   ]
  },
  {
   "cell_type": "markdown",
   "metadata": {},
   "source": [
    "## model"
   ]
  },
  {
   "cell_type": "code",
   "execution_count": null,
   "metadata": {},
   "outputs": [],
   "source": [
    "import model\n",
    "reload(model)\n",
    "from model import ErfBot\n",
    "\n",
    "\n",
    "model = ErfBot(config=GPT2Config(**config['model']), \n",
    "               **config['opt'])\n",
    "model"
   ]
  },
  {
   "cell_type": "code",
   "execution_count": null,
   "metadata": {},
   "outputs": [],
   "source": [
    "model.count_parameters()"
   ]
  },
  {
   "cell_type": "markdown",
   "metadata": {},
   "source": [
    "## trainer"
   ]
  },
  {
   "cell_type": "code",
   "execution_count": null,
   "metadata": {},
   "outputs": [],
   "source": [
    "logger = TensorBoardLogger(\n",
    "    save_dir='logs/',\n",
    "    name='gpt2_logs'\n",
    ")\n",
    "\n",
    "checkpoint = ModelCheckpoint(dirpath='weights/gpt2', \n",
    "                             filename='{epoch}-{val_loss:.2f}', \n",
    "                             monitor='val_loss',\n",
    "                             save_top_k=1, \n",
    "                             period=1)\n",
    "\n",
    "lr_logger = LearningRateMonitor(logging_interval='step')\n",
    "\n",
    "## defining trainer\n",
    "trainer = Trainer(benchmark=True, \n",
    "                  gpus=1, \n",
    "                  logger=logger, \n",
    "                  max_epochs=config['opt']['max_epochs'],\n",
    "                  callbacks=[checkpoint, lr_logger])"
   ]
  },
  {
   "cell_type": "code",
   "execution_count": null,
   "metadata": {},
   "outputs": [],
   "source": [
    "trainer.fit(model, train_loader, val_loader)"
   ]
  }
 ],
 "metadata": {
  "kernelspec": {
   "display_name": "Python 3",
   "language": "python",
   "name": "python3"
  },
  "language_info": {
   "codemirror_mode": {
    "name": "ipython",
    "version": 3
   },
   "file_extension": ".py",
   "mimetype": "text/x-python",
   "name": "python",
   "nbconvert_exporter": "python",
   "pygments_lexer": "ipython3",
   "version": "3.7.4"
  }
 },
 "nbformat": 4,
 "nbformat_minor": 2
}
