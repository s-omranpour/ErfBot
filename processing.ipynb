{
 "cells": [
  {
   "cell_type": "code",
   "execution_count": 6,
   "metadata": {},
   "outputs": [
    {
     "name": "stderr",
     "output_type": "stream",
     "text": [
      "/Library/Frameworks/Python.framework/Versions/3.7/lib/python3.7/site-packages/tqdm/std.py:658: FutureWarning: The Panel class is removed from pandas. Accessing it from the top-level namespace will also be removed in the next version\n",
      "  from pandas import Panel\n"
     ]
    }
   ],
   "source": [
    "import json\n",
    "from tqdm.notebook import tqdm\n",
    "import pandas as pd\n",
    "import numpy as np\n",
    "import matplotlib.pyplot as plt\n",
    "import os\n",
    "tqdm.pandas()"
   ]
  },
  {
   "cell_type": "code",
   "execution_count": 2,
   "metadata": {},
   "outputs": [
    {
     "data": {
      "text/plain": [
       "dict_keys(['name', 'type', 'id', 'messages'])"
      ]
     },
     "execution_count": 2,
     "metadata": {},
     "output_type": "execute_result"
    }
   ],
   "source": [
    "file = 'result.json'\n",
    "data = json.load(open(file))\n",
    "data.keys()"
   ]
  },
  {
   "cell_type": "code",
   "execution_count": 3,
   "metadata": {},
   "outputs": [
    {
     "data": {
      "text/plain": [
       "{'id': 212573,\n",
       " 'type': 'message',\n",
       " 'date': '2018-01-22T22:08:41',\n",
       " 'from': 'Delbar❤ پنکیکی🍩❤️👰🏻',\n",
       " 'from_id': 4601975800,\n",
       " 'file': '(File not included. Change data exporting settings to download.)',\n",
       " 'media_type': 'voice_message',\n",
       " 'mime_type': 'audio/ogg',\n",
       " 'duration_seconds': 11,\n",
       " 'text': ''}"
      ]
     },
     "execution_count": 3,
     "metadata": {},
     "output_type": "execute_result"
    }
   ],
   "source": [
    "messages = data['messages']\n",
    "messages[10000]"
   ]
  },
  {
   "cell_type": "code",
   "execution_count": 27,
   "metadata": {},
   "outputs": [],
   "source": [
    "def parse_text(text):\n",
    "    if isinstance(text, str):\n",
    "        return text + ' '\n",
    "    \n",
    "    all_types = ['bank_card', 'bold', 'code', 'email',\n",
    "                 'hashtag', 'italic', 'link', 'mention',\n",
    "                 'phone', 'text_link','underline']\n",
    "    valid_types = ['bold']\n",
    "    res = ''\n",
    "    for t in text:\n",
    "        if isinstance(t, str):\n",
    "            res += t + ' '\n",
    "        elif t['type'] in valid_types:\n",
    "            res += t['text'] + ' '\n",
    "    return res\n",
    "\n",
    "def get_sender(sender):\n",
    "    return 'soroush' if sender.lower() == 'soroush' else 'erf'"
   ]
  },
  {
   "cell_type": "code",
   "execution_count": 23,
   "metadata": {},
   "outputs": [
    {
     "data": {
      "text/html": [
       "<div>\n",
       "<style scoped>\n",
       "    .dataframe tbody tr th:only-of-type {\n",
       "        vertical-align: middle;\n",
       "    }\n",
       "\n",
       "    .dataframe tbody tr th {\n",
       "        vertical-align: top;\n",
       "    }\n",
       "\n",
       "    .dataframe thead th {\n",
       "        text-align: right;\n",
       "    }\n",
       "</style>\n",
       "<table border=\"1\" class=\"dataframe\">\n",
       "  <thead>\n",
       "    <tr style=\"text-align: right;\">\n",
       "      <th></th>\n",
       "      <th>from</th>\n",
       "      <th>text</th>\n",
       "    </tr>\n",
       "  </thead>\n",
       "  <tbody>\n",
       "    <tr>\n",
       "      <td>0</td>\n",
       "      <td>Soroush</td>\n",
       "      <td></td>\n",
       "    </tr>\n",
       "    <tr>\n",
       "      <td>1</td>\n",
       "      <td>Soroush</td>\n",
       "      <td>هدیه ی اولیه تولد! :))</td>\n",
       "    </tr>\n",
       "    <tr>\n",
       "      <td>2</td>\n",
       "      <td>Delbar❤ پنکیکی🍩❤️👰🏻</td>\n",
       "      <td>Ey khafan tarin</td>\n",
       "    </tr>\n",
       "    <tr>\n",
       "      <td>3</td>\n",
       "      <td>Delbar❤ پنکیکی🍩❤️👰🏻</td>\n",
       "      <td>❤❤❤❤</td>\n",
       "    </tr>\n",
       "    <tr>\n",
       "      <td>4</td>\n",
       "      <td>Delbar❤ پنکیکی🍩❤️👰🏻</td>\n",
       "      <td>Zogh haye ziad</td>\n",
       "    </tr>\n",
       "  </tbody>\n",
       "</table>\n",
       "</div>"
      ],
      "text/plain": [
       "                  from                    text\n",
       "0              Soroush                        \n",
       "1              Soroush  هدیه ی اولیه تولد! :))\n",
       "2  Delbar❤ پنکیکی🍩❤️👰🏻         Ey khafan tarin\n",
       "3  Delbar❤ پنکیکی🍩❤️👰🏻                    ❤❤❤❤\n",
       "4  Delbar❤ پنکیکی🍩❤️👰🏻          Zogh haye ziad"
      ]
     },
     "execution_count": 23,
     "metadata": {},
     "output_type": "execute_result"
    }
   ],
   "source": [
    "df = pd.DataFrame(data=messages)\n",
    "df = df[['from', 'text']]\n",
    "df.head()"
   ]
  },
  {
   "cell_type": "code",
   "execution_count": 24,
   "metadata": {},
   "outputs": [
    {
     "data": {
      "text/plain": [
       "array(['Soroush', 'Delbar❤ پنکیکی🍩❤️👰🏻'], dtype=object)"
      ]
     },
     "execution_count": 24,
     "metadata": {},
     "output_type": "execute_result"
    }
   ],
   "source": [
    "df.drop(df[pd.isna(df['from'])].index, inplace=True)\n",
    "df['from'].unique()"
   ]
  },
  {
   "cell_type": "code",
   "execution_count": 25,
   "metadata": {},
   "outputs": [
    {
     "data": {
      "application/vnd.jupyter.widget-view+json": {
       "model_id": "9e3e6990b22743c496aea52f63c8a8c8",
       "version_major": 2,
       "version_minor": 0
      },
      "text/plain": [
       "HBox(children=(FloatProgress(value=0.0, max=193814.0), HTML(value='')))"
      ]
     },
     "metadata": {},
     "output_type": "display_data"
    },
    {
     "name": "stdout",
     "output_type": "stream",
     "text": [
      "\n"
     ]
    },
    {
     "data": {
      "text/html": [
       "<div>\n",
       "<style scoped>\n",
       "    .dataframe tbody tr th:only-of-type {\n",
       "        vertical-align: middle;\n",
       "    }\n",
       "\n",
       "    .dataframe tbody tr th {\n",
       "        vertical-align: top;\n",
       "    }\n",
       "\n",
       "    .dataframe thead th {\n",
       "        text-align: right;\n",
       "    }\n",
       "</style>\n",
       "<table border=\"1\" class=\"dataframe\">\n",
       "  <thead>\n",
       "    <tr style=\"text-align: right;\">\n",
       "      <th></th>\n",
       "      <th>from</th>\n",
       "      <th>text</th>\n",
       "    </tr>\n",
       "  </thead>\n",
       "  <tbody>\n",
       "    <tr>\n",
       "      <td>0</td>\n",
       "      <td>soroush</td>\n",
       "      <td></td>\n",
       "    </tr>\n",
       "    <tr>\n",
       "      <td>1</td>\n",
       "      <td>soroush</td>\n",
       "      <td>هدیه ی اولیه تولد! :))</td>\n",
       "    </tr>\n",
       "    <tr>\n",
       "      <td>2</td>\n",
       "      <td>erf</td>\n",
       "      <td>Ey khafan tarin</td>\n",
       "    </tr>\n",
       "    <tr>\n",
       "      <td>3</td>\n",
       "      <td>erf</td>\n",
       "      <td>❤❤❤❤</td>\n",
       "    </tr>\n",
       "    <tr>\n",
       "      <td>4</td>\n",
       "      <td>erf</td>\n",
       "      <td>Zogh haye ziad</td>\n",
       "    </tr>\n",
       "  </tbody>\n",
       "</table>\n",
       "</div>"
      ],
      "text/plain": [
       "      from                    text\n",
       "0  soroush                        \n",
       "1  soroush  هدیه ی اولیه تولد! :))\n",
       "2      erf         Ey khafan tarin\n",
       "3      erf                    ❤❤❤❤\n",
       "4      erf          Zogh haye ziad"
      ]
     },
     "execution_count": 25,
     "metadata": {},
     "output_type": "execute_result"
    }
   ],
   "source": [
    "df['from'] = df.progress_apply(lambda x: get_sender(x['from']), axis=1)\n",
    "df.head()"
   ]
  },
  {
   "cell_type": "code",
   "execution_count": 28,
   "metadata": {},
   "outputs": [
    {
     "data": {
      "application/vnd.jupyter.widget-view+json": {
       "model_id": "5d8a5de3341249eebf1fc14b2db52596",
       "version_major": 2,
       "version_minor": 0
      },
      "text/plain": [
       "HBox(children=(FloatProgress(value=0.0, max=193814.0), HTML(value='')))"
      ]
     },
     "metadata": {},
     "output_type": "display_data"
    },
    {
     "name": "stdout",
     "output_type": "stream",
     "text": [
      "\n"
     ]
    }
   ],
   "source": [
    "df['text'] = df.progress_apply(lambda x: parse_text(x['text']), axis=1)"
   ]
  },
  {
   "cell_type": "code",
   "execution_count": 31,
   "metadata": {},
   "outputs": [
    {
     "data": {
      "text/plain": [
       "(193425, 2)"
      ]
     },
     "execution_count": 31,
     "metadata": {},
     "output_type": "execute_result"
    }
   ],
   "source": [
    "df.drop(df[df['text'] == ''].index, inplace=True)\n",
    "df.shape"
   ]
  },
  {
   "cell_type": "code",
   "execution_count": 44,
   "metadata": {},
   "outputs": [],
   "source": [
    "history = [{'from':df['from'][0] , 'text': df['text'][0]}]"
   ]
  },
  {
   "cell_type": "code",
   "execution_count": 45,
   "metadata": {},
   "outputs": [
    {
     "data": {
      "application/vnd.jupyter.widget-view+json": {
       "model_id": "e6bdbcaa39724fe3881b6f81918463b7",
       "version_major": 2,
       "version_minor": 0
      },
      "text/plain": [
       "HBox(children=(FloatProgress(value=1.0, bar_style='info', max=1.0), HTML(value='')))"
      ]
     },
     "metadata": {},
     "output_type": "display_data"
    },
    {
     "name": "stdout",
     "output_type": "stream",
     "text": [
      "\n"
     ]
    }
   ],
   "source": [
    "for f,t in tqdm(zip(df['from'][1:], df['text'][1:])):\n",
    "    if f == history[-1]['from']:\n",
    "        history[-1]['text'] += ' ' + t\n",
    "    else:\n",
    "        history += [{'from':f, 'text': t}]"
   ]
  },
  {
   "cell_type": "code",
   "execution_count": 47,
   "metadata": {},
   "outputs": [
    {
     "data": {
      "text/html": [
       "<div>\n",
       "<style scoped>\n",
       "    .dataframe tbody tr th:only-of-type {\n",
       "        vertical-align: middle;\n",
       "    }\n",
       "\n",
       "    .dataframe tbody tr th {\n",
       "        vertical-align: top;\n",
       "    }\n",
       "\n",
       "    .dataframe thead th {\n",
       "        text-align: right;\n",
       "    }\n",
       "</style>\n",
       "<table border=\"1\" class=\"dataframe\">\n",
       "  <thead>\n",
       "    <tr style=\"text-align: right;\">\n",
       "      <th></th>\n",
       "      <th>from</th>\n",
       "      <th>text</th>\n",
       "    </tr>\n",
       "  </thead>\n",
       "  <tbody>\n",
       "    <tr>\n",
       "      <td>0</td>\n",
       "      <td>soroush</td>\n",
       "      <td>هدیه ی اولیه تولد! :))</td>\n",
       "    </tr>\n",
       "    <tr>\n",
       "      <td>1</td>\n",
       "      <td>erf</td>\n",
       "      <td>Ey khafan tarin  ❤❤❤❤  Zogh haye ziad  Melted ...</td>\n",
       "    </tr>\n",
       "    <tr>\n",
       "      <td>2</td>\n",
       "      <td>soroush</td>\n",
       "      <td>😌😌😌❤️  wish U enjoy it! :))</td>\n",
       "    </tr>\n",
       "    <tr>\n",
       "      <td>3</td>\n",
       "      <td>erf</td>\n",
       "      <td>Kheili khube ha bia berim jaye chaartaar y per...</td>\n",
       "    </tr>\n",
       "    <tr>\n",
       "      <td>4</td>\n",
       "      <td>soroush</td>\n",
       "      <td>dar khedmatim! 😏 :))  albatte age shoma eftexa...</td>\n",
       "    </tr>\n",
       "    <tr>\n",
       "      <td>...</td>\n",
       "      <td>...</td>\n",
       "      <td>...</td>\n",
       "    </tr>\n",
       "    <tr>\n",
       "      <td>95</td>\n",
       "      <td>erf</td>\n",
       "      <td>Mochakeram 🌺  Shab bekheir !  Salam😁  Mishe um...</td>\n",
       "    </tr>\n",
       "    <tr>\n",
       "      <td>96</td>\n",
       "      <td>soroush</td>\n",
       "      <td>salam aleykom khanum doctor  ettefaghan khasta...</td>\n",
       "    </tr>\n",
       "    <tr>\n",
       "      <td>97</td>\n",
       "      <td>erf</td>\n",
       "      <td>Khob avvalan k residan bekheir  Dovoman ke bik...</td>\n",
       "    </tr>\n",
       "    <tr>\n",
       "      <td>98</td>\n",
       "      <td>soroush</td>\n",
       "      <td>bale bale bande dar khedmate shomam</td>\n",
       "    </tr>\n",
       "    <tr>\n",
       "      <td>99</td>\n",
       "      <td>erf</td>\n",
       "      <td>Saatesh ba shoma  Man az 6 bidaram</td>\n",
       "    </tr>\n",
       "  </tbody>\n",
       "</table>\n",
       "<p>100 rows × 2 columns</p>\n",
       "</div>"
      ],
      "text/plain": [
       "       from                                               text\n",
       "0   soroush                            هدیه ی اولیه تولد! :)) \n",
       "1       erf  Ey khafan tarin  ❤❤❤❤  Zogh haye ziad  Melted ...\n",
       "2   soroush                       😌😌😌❤️  wish U enjoy it! :)) \n",
       "3       erf  Kheili khube ha bia berim jaye chaartaar y per...\n",
       "4   soroush  dar khedmatim! 😏 :))  albatte age shoma eftexa...\n",
       "..      ...                                                ...\n",
       "95      erf  Mochakeram 🌺  Shab bekheir !  Salam😁  Mishe um...\n",
       "96  soroush  salam aleykom khanum doctor  ettefaghan khasta...\n",
       "97      erf  Khob avvalan k residan bekheir  Dovoman ke bik...\n",
       "98  soroush               bale bale bande dar khedmate shomam \n",
       "99      erf                Saatesh ba shoma  Man az 6 bidaram \n",
       "\n",
       "[100 rows x 2 columns]"
      ]
     },
     "execution_count": 47,
     "metadata": {},
     "output_type": "execute_result"
    }
   ],
   "source": [
    "df2 = pd.DataFrame(data=history)\n",
    "df2.head(100)"
   ]
  },
  {
   "cell_type": "code",
   "execution_count": 48,
   "metadata": {},
   "outputs": [
    {
     "data": {
      "text/plain": [
       "(103663, 2)"
      ]
     },
     "execution_count": 48,
     "metadata": {},
     "output_type": "execute_result"
    }
   ],
   "source": [
    "df2.shape"
   ]
  },
  {
   "cell_type": "code",
   "execution_count": 49,
   "metadata": {},
   "outputs": [],
   "source": [
    "df2.to_csv('processed.csv', index=False)"
   ]
  },
  {
   "cell_type": "code",
   "execution_count": null,
   "metadata": {},
   "outputs": [],
   "source": []
  }
 ],
 "metadata": {
  "kernelspec": {
   "display_name": "Python 3",
   "language": "python",
   "name": "python3"
  },
  "language_info": {
   "codemirror_mode": {
    "name": "ipython",
    "version": 3
   },
   "file_extension": ".py",
   "mimetype": "text/x-python",
   "name": "python",
   "nbconvert_exporter": "python",
   "pygments_lexer": "ipython3",
   "version": "3.7.4"
  }
 },
 "nbformat": 4,
 "nbformat_minor": 2
}
